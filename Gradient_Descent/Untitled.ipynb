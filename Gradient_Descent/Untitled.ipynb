{
 "cells": [
  {
   "cell_type": "code",
   "execution_count": 1,
   "id": "15169a0c-bd0e-4d78-bf5e-073c596193ee",
   "metadata": {},
   "outputs": [],
   "source": [
    "# gradient descent fot linear regression\n",
    "# yhat = wx + b\n",
    "# loss = (y - yhat)**2 /N"
   ]
  },
  {
   "cell_type": "code",
   "execution_count": 2,
   "id": "4bee50d4-a626-4cd1-859e-0318a412bacd",
   "metadata": {},
   "outputs": [],
   "source": [
    "import numpy as np"
   ]
  },
  {
   "cell_type": "code",
   "execution_count": 3,
   "id": "38ce1783-ea18-4ed9-b242-138c6110d081",
   "metadata": {},
   "outputs": [],
   "source": [
    "# initialise some parameters"
   ]
  },
  {
   "cell_type": "code",
   "execution_count": 7,
   "id": "8cdf1437-8586-488a-ac7a-3bb0bf1d8ecd",
   "metadata": {},
   "outputs": [],
   "source": [
    "# initialise some parameter\n",
    "x = np.random.randn(10, 1)\n",
    "y = 2*x + np.random.rand()"
   ]
  },
  {
   "cell_type": "code",
   "execution_count": 8,
   "id": "899c410c-54c5-412c-b8c1-781e2743af5c",
   "metadata": {},
   "outputs": [],
   "source": [
    "# Parameters\n",
    "w = 0.0\n",
    "b = 0.0"
   ]
  },
  {
   "cell_type": "code",
   "execution_count": null,
   "id": "50fffb68-b5fb-4c70-b7a6-5e3dceec12c8",
   "metadata": {},
   "outputs": [],
   "source": [
    "# Hyperparameter\n",
    "learning_rate = 0.0"
   ]
  },
  {
   "cell_type": "code",
   "execution_count": null,
   "id": "cef777f0-7f92-4f5b-81f9-a4162dc016ee",
   "metadata": {},
   "outputs": [],
   "source": []
  },
  {
   "cell_type": "code",
   "execution_count": null,
   "id": "9c6acd9f-ef3b-4690-8f3b-a61443b482dc",
   "metadata": {},
   "outputs": [],
   "source": [
    "# Iteratively make updates\n",
    "for epoch in range(400):\n",
    "    # Run gradient descent\n",
    "    pass"
   ]
  }
 ],
 "metadata": {
  "kernelspec": {
   "display_name": "Python 3 (ipykernel)",
   "language": "python",
   "name": "python3"
  },
  "language_info": {
   "codemirror_mode": {
    "name": "ipython",
    "version": 3
   },
   "file_extension": ".py",
   "mimetype": "text/x-python",
   "name": "python",
   "nbconvert_exporter": "python",
   "pygments_lexer": "ipython3",
   "version": "3.11.0"
  }
 },
 "nbformat": 4,
 "nbformat_minor": 5
}
